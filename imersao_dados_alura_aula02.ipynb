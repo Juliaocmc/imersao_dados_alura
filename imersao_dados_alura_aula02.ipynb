{
  "nbformat": 4,
  "nbformat_minor": 0,
  "metadata": {
    "colab": {
      "name": "imersao_dados_alura_aula02.ipynb",
      "provenance": [],
      "collapsed_sections": [
        "X_Lg2XTu20ND"
      ],
      "include_colab_link": true
    },
    "kernelspec": {
      "name": "python3",
      "display_name": "Python 3"
    },
    "language_info": {
      "name": "python"
    }
  },
  "cells": [
    {
      "cell_type": "markdown",
      "metadata": {
        "id": "view-in-github",
        "colab_type": "text"
      },
      "source": [
        "<a href=\"https://colab.research.google.com/github/Juliaocmc/imersao_dados_alura/blob/main/imersao_dados_alura_aula02.ipynb\" target=\"_parent\"><img src=\"https://colab.research.google.com/assets/colab-badge.svg\" alt=\"Open In Colab\"/></a>"
      ]
    },
    {
      "cell_type": "markdown",
      "metadata": {
        "id": "KbXSuyvbqdTE"
      },
      "source": [
        "# Desafios Aula 2"
      ]
    },
    {
      "cell_type": "markdown",
      "metadata": {
        "id": "X_Lg2XTu20ND"
      },
      "source": [
        "\n",
        "\n",
        "\n",
        "\n",
        "\n",
        "###Desafio 01: Ordenar o gráfico countplot\n",
        "\n"
      ]
    },
    {
      "cell_type": "code",
      "metadata": {
        "id": "-5jgV6WEtCUW"
      },
      "source": [
        ""
      ],
      "execution_count": null,
      "outputs": []
    },
    {
      "cell_type": "markdown",
      "metadata": {
        "id": "pC3k4aabtEFM"
      },
      "source": [
        "###Desafio 02: Melhorar a visualização alterando tamanho da fonte...\n",
        "\n"
      ]
    },
    {
      "cell_type": "code",
      "metadata": {
        "id": "D2BgbjADtD9S"
      },
      "source": [
        ""
      ],
      "execution_count": null,
      "outputs": []
    },
    {
      "cell_type": "markdown",
      "metadata": {
        "id": "udFk-IVRtDzb"
      },
      "source": [
        "###Desafio 03: Plotar os histogramas com seaborn\n",
        "\n"
      ]
    },
    {
      "cell_type": "code",
      "metadata": {
        "id": "_H76HvGStDrE"
      },
      "source": [
        ""
      ],
      "execution_count": null,
      "outputs": []
    },
    {
      "cell_type": "markdown",
      "metadata": {
        "id": "O3scEXJvtDfx"
      },
      "source": [
        "###Desafio 04: Estudar sobre as estatíticas retornadas no .describe()\n",
        "\n"
      ]
    },
    {
      "cell_type": "code",
      "metadata": {
        "id": "dV2mvfAHtDWL"
      },
      "source": [
        ""
      ],
      "execution_count": null,
      "outputs": []
    },
    {
      "cell_type": "markdown",
      "metadata": {
        "id": "H8cca_xMtDI9"
      },
      "source": [
        "###Desafio 05: Refletir sobre a manipulação do tamanho das visualizações. \n"
      ]
    },
    {
      "cell_type": "code",
      "metadata": {
        "id": "aAH1c9cptC7p"
      },
      "source": [
        ""
      ],
      "execution_count": null,
      "outputs": []
    },
    {
      "cell_type": "markdown",
      "metadata": {
        "id": "47uYbZyCtCoo"
      },
      "source": [
        "\n",
        "###Desafio 06: Fazer outras análises com o boxplot e até com o histograma. \n"
      ]
    },
    {
      "cell_type": "code",
      "metadata": {
        "id": "uo5nBAjGtRst"
      },
      "source": [
        ""
      ],
      "execution_count": null,
      "outputs": []
    },
    {
      "cell_type": "markdown",
      "metadata": {
        "id": "5hG0p1SKtSNy"
      },
      "source": [
        "\n",
        "###Desafio 07: Resumo do que você aprendeu com os dados"
      ]
    },
    {
      "cell_type": "code",
      "metadata": {
        "id": "pzqHzZmWtS17"
      },
      "source": [
        ""
      ],
      "execution_count": null,
      "outputs": []
    }
  ]
}